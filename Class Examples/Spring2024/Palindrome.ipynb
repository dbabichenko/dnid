{
 "cells": [
  {
   "cell_type": "markdown",
   "id": "bc3649d2",
   "metadata": {},
   "source": [
    "## Palindrome Algorithm:\n",
    "\n",
    "A word or a phrase that is spelled the same backwards and forward\n",
    "\n",
    "1. Get user input (Bob, Race car)\n",
    "2. Convert everything to either lower or upper case\n",
    "3. Remove all non-letter characters\n",
    "4. Reverse string\n",
    "5. Compare with original"
   ]
  },
  {
   "cell_type": "code",
   "execution_count": 37,
   "id": "e94c4643",
   "metadata": {},
   "outputs": [
    {
     "name": "stdout",
     "output_type": "stream",
     "text": [
      "Please enter a word or a phrase: Race car!@#$@#\n"
     ]
    }
   ],
   "source": [
    "user_input = input(\"Please enter a word or a phrase: \")"
   ]
  },
  {
   "cell_type": "code",
   "execution_count": 38,
   "id": "03157d11",
   "metadata": {},
   "outputs": [
    {
     "name": "stdout",
     "output_type": "stream",
     "text": [
      "Race car!@#$@#\n"
     ]
    }
   ],
   "source": [
    "print(user_input)"
   ]
  },
  {
   "cell_type": "markdown",
   "id": "7720649d",
   "metadata": {},
   "source": [
    "### Step 2: Convert everything to lower case"
   ]
  },
  {
   "cell_type": "code",
   "execution_count": 39,
   "id": "c6ce1878",
   "metadata": {},
   "outputs": [
    {
     "name": "stdout",
     "output_type": "stream",
     "text": [
      "race car!@#$@#\n"
     ]
    }
   ],
   "source": [
    "user_input = user_input.lower()\n",
    "print(user_input)"
   ]
  },
  {
   "cell_type": "markdown",
   "id": "6ab965b0",
   "metadata": {},
   "source": [
    "### Step 3: Remove all non-letter characters"
   ]
  },
  {
   "cell_type": "markdown",
   "id": "78d188ba",
   "metadata": {},
   "source": [
    "**In Java, I'd write a for loop like this:\n",
    "\n",
    "l = [1, 2, 3]\n",
    "\n",
    "for(int i = 0; i<l.length; i++){\n",
    "\n",
    "    // do something here\n",
    "\n",
    "}"
   ]
  },
  {
   "cell_type": "code",
   "execution_count": 40,
   "id": "e10157e4",
   "metadata": {},
   "outputs": [
    {
     "data": {
      "text/plain": [
       "[0, 1, 2, 3, 4, 5, 6, 7, 8, 9, 10, 11, 12, 13]"
      ]
     },
     "execution_count": 40,
     "metadata": {},
     "output_type": "execute_result"
    }
   ],
   "source": [
    "list(range(0, len(user_input)))"
   ]
  },
  {
   "cell_type": "code",
   "execution_count": 41,
   "id": "c193496a",
   "metadata": {},
   "outputs": [
    {
     "name": "stdout",
     "output_type": "stream",
     "text": [
      "Not letter\n"
     ]
    }
   ],
   "source": [
    "letter = 'Z'\n",
    "if ord(letter) >= ord('a') and ord(letter) <= ord('z'):\n",
    "    print(\"Letter\")\n",
    "else:\n",
    "    print(\"Not letter\")"
   ]
  },
  {
   "cell_type": "code",
   "execution_count": 42,
   "id": "61a9e3ae",
   "metadata": {},
   "outputs": [
    {
     "name": "stdout",
     "output_type": "stream",
     "text": [
      "racecar\n"
     ]
    }
   ],
   "source": [
    "# Create variable to store a new string that will only contain letters\n",
    "clean_input = \"\"\n",
    "\n",
    "# Iterate through each character in a string using a for loop\n",
    "# The loop goes through each character from position = 0 to len of string - 1\n",
    "# Range from 0 to len of string - 1\n",
    "for i in range(0,len(user_input)):\n",
    "    # print(i, \": \", user_input[i])\n",
    "    # Assign the character in position \"i\" to the variable \"letter\"\n",
    "    letter = user_input[i]\n",
    "    \n",
    "    # Check if the ascii value of \"letter\" falls between ascii values of \"a\" and \"z\"\n",
    "    if ord(letter) >= ord('a') and ord(letter) <= ord('z'):\n",
    "        # print(letter, \" is a letter\")\n",
    "        clean_input += letter\n",
    "\n",
    "print(clean_input)"
   ]
  },
  {
   "cell_type": "markdown",
   "id": "233b0cc3",
   "metadata": {},
   "source": [
    "### Step 4: Reverse string"
   ]
  },
  {
   "cell_type": "code",
   "execution_count": 43,
   "id": "1607045a",
   "metadata": {},
   "outputs": [
    {
     "name": "stdout",
     "output_type": "stream",
     "text": [
      "racecar\n"
     ]
    }
   ],
   "source": [
    "reversed_string = clean_input[::-1]\n",
    "print(reversed_string)"
   ]
  },
  {
   "cell_type": "markdown",
   "id": "c306ee22",
   "metadata": {},
   "source": [
    "### Step 5: Compare strings\n"
   ]
  },
  {
   "cell_type": "code",
   "execution_count": 44,
   "id": "1645d499",
   "metadata": {},
   "outputs": [
    {
     "name": "stdout",
     "output_type": "stream",
     "text": [
      "race car!@#$@#  is a palindrome\n"
     ]
    }
   ],
   "source": [
    "if clean_input == reversed_string:\n",
    "    print(user_input, \" is a palindrome\")\n",
    "else:\n",
    "    print(user_input, \" is NOT a palindrome\")"
   ]
  },
  {
   "cell_type": "code",
   "execution_count": null,
   "id": "c17fa509",
   "metadata": {},
   "outputs": [],
   "source": []
  },
  {
   "cell_type": "markdown",
   "id": "4545aa0b",
   "metadata": {},
   "source": [
    "## Let's rewrite this as a function"
   ]
  },
  {
   "cell_type": "markdown",
   "id": "9fe1f0bc",
   "metadata": {},
   "source": [
    "* In Java, functions require a return datatype and a datatype for each argument\n",
    "* In Java, a function can only return one value\n",
    "\n",
    "int addNumbers(int n1, int n2){\n",
    "\n",
    "    return n1 + n2;\n",
    "    \n",
    "}"
   ]
  },
  {
   "cell_type": "markdown",
   "id": "04671d7c",
   "metadata": {},
   "source": [
    "### Distinction 1 - a Python function can return multiple values "
   ]
  },
  {
   "cell_type": "code",
   "execution_count": 53,
   "id": "9bd77f36",
   "metadata": {},
   "outputs": [],
   "source": [
    "def add_numbers(n1, n2):\n",
    "    return n1 + n2"
   ]
  },
  {
   "cell_type": "code",
   "execution_count": 54,
   "id": "7d7b749d",
   "metadata": {},
   "outputs": [
    {
     "data": {
      "text/plain": [
       "5"
      ]
     },
     "execution_count": 54,
     "metadata": {},
     "output_type": "execute_result"
    }
   ],
   "source": [
    "add_numbers(2, 3)"
   ]
  },
  {
   "cell_type": "code",
   "execution_count": 55,
   "id": "e21e392a",
   "metadata": {},
   "outputs": [],
   "source": [
    "def do_math(n1, n2):\n",
    "    a = n1 + n2\n",
    "    s = n1 - n2\n",
    "    m = n1 * n2\n",
    "    d = n1 / n2\n",
    "    mod = n1%n2\n",
    "    \n",
    "    return a, s, m, d, mod"
   ]
  },
  {
   "cell_type": "code",
   "execution_count": 57,
   "id": "8253dcd1",
   "metadata": {},
   "outputs": [
    {
     "name": "stdout",
     "output_type": "stream",
     "text": [
      "-1\n"
     ]
    }
   ],
   "source": [
    "addition, subtr, mult, div, mod = do_math(2, 3)\n",
    "print(subtr)"
   ]
  },
  {
   "cell_type": "markdown",
   "id": "3668d1c8",
   "metadata": {},
   "source": [
    "### Distinction 2 - a Python function can have optional parameters"
   ]
  },
  {
   "cell_type": "markdown",
   "id": "11e6b0a6",
   "metadata": {},
   "source": [
    "**In Java**\n",
    "* double do_math(int a, int b)\n",
    "* double do_math(double a, int b)\n",
    "* double do_math(double a, int b, double c)"
   ]
  },
  {
   "cell_type": "code",
   "execution_count": 58,
   "id": "14d0a2ca",
   "metadata": {},
   "outputs": [],
   "source": [
    "def do_math(n1, n2, o=\"+\"):\n",
    "    if o == \"+\":\n",
    "        return n1 + n2\n",
    "    elif o == \"-\":\n",
    "        return n1 - n2\n",
    "    elif o == \"*\":\n",
    "        return n1 * n2\n",
    "    elif o == \"/\":\n",
    "        if n2 != 0:\n",
    "            return n1 / n2\n",
    "        else:\n",
    "            return \"ERROR\"\n",
    "    "
   ]
  },
  {
   "cell_type": "code",
   "execution_count": 59,
   "id": "e1ed5d0c",
   "metadata": {},
   "outputs": [
    {
     "data": {
      "text/plain": [
       "3"
      ]
     },
     "execution_count": 59,
     "metadata": {},
     "output_type": "execute_result"
    }
   ],
   "source": [
    "do_math(1, 2)"
   ]
  },
  {
   "cell_type": "code",
   "execution_count": 60,
   "id": "38f3f7ac",
   "metadata": {},
   "outputs": [
    {
     "data": {
      "text/plain": [
       "2"
      ]
     },
     "execution_count": 60,
     "metadata": {},
     "output_type": "execute_result"
    }
   ],
   "source": [
    "do_math(1, 2, o=\"*\")"
   ]
  },
  {
   "cell_type": "code",
   "execution_count": 61,
   "id": "d065e880",
   "metadata": {},
   "outputs": [],
   "source": [
    "def clean_string(user_input):\n",
    "    # Create variable to store a new string that will only contain letters\n",
    "    clean_input = \"\"\n",
    "\n",
    "    # Iterate through each character in a string using a for loop\n",
    "    # The loop goes through each character from position = 0 to len of string - 1\n",
    "    # Range from 0 to len of string - 1\n",
    "    for i in range(0,len(user_input)):\n",
    "        # print(i, \": \", user_input[i])\n",
    "        # Assign the character in position \"i\" to the variable \"letter\"\n",
    "        letter = user_input[i]\n",
    "\n",
    "        # Check if the ascii value of \"letter\" falls between ascii values of \"a\" and \"z\"\n",
    "        if ord(letter) >= ord('a') and ord(letter) <= ord('z'):\n",
    "            # print(letter, \" is a letter\")\n",
    "            clean_input += letter\n",
    "\n",
    "    return clean_input\n",
    "\n",
    "def is_palindrome(user_input):\n",
    "    user_input = user_input.lower()\n",
    "    clean_input = clean_string(user_input)\n",
    "    reversed_input = clean_input[::-1]\n",
    "    if clean_input == reversed_input:\n",
    "        return True\n",
    "    else:\n",
    "        return False"
   ]
  },
  {
   "cell_type": "code",
   "execution_count": 62,
   "id": "baf96f14",
   "metadata": {},
   "outputs": [
    {
     "data": {
      "text/plain": [
       "True"
      ]
     },
     "execution_count": 62,
     "metadata": {},
     "output_type": "execute_result"
    }
   ],
   "source": [
    "is_palindrome(\"Race car\")"
   ]
  },
  {
   "cell_type": "code",
   "execution_count": 64,
   "id": "68e6ad9c",
   "metadata": {},
   "outputs": [
    {
     "data": {
      "text/plain": [
       "True"
      ]
     },
     "execution_count": 64,
     "metadata": {},
     "output_type": "execute_result"
    }
   ],
   "source": [
    "is_palindrome(\"Cigar to go tragic\")"
   ]
  },
  {
   "cell_type": "code",
   "execution_count": null,
   "id": "66a8588d",
   "metadata": {},
   "outputs": [],
   "source": []
  }
 ],
 "metadata": {
  "kernelspec": {
   "display_name": "Python 3 (ipykernel)",
   "language": "python",
   "name": "python3"
  },
  "language_info": {
   "codemirror_mode": {
    "name": "ipython",
    "version": 3
   },
   "file_extension": ".py",
   "mimetype": "text/x-python",
   "name": "python",
   "nbconvert_exporter": "python",
   "pygments_lexer": "ipython3",
   "version": "3.9.13"
  }
 },
 "nbformat": 4,
 "nbformat_minor": 5
}
