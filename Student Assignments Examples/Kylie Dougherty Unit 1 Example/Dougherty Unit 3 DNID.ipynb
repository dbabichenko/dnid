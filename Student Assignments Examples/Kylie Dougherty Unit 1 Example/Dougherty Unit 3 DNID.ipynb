{
 "cells": [
  {
   "cell_type": "markdown",
   "metadata": {},
   "source": [
    "# Higher Education =? Happiness\n",
    "\n",
    "## Project By: Kylie Dougherty\n",
    "\n",
    "My goal in this project is to investigate the relationship between higher education and reported happiness in countries around the world. Does such a relationship exist in the first place? If a country has highly rated universities, are their citizens inherently happy? Who is even included in happiness? Who gets to attend these highly rated universities?\n",
    "\n",
    "These are just a few of the questions I'm keeping in mind through my investigations. If there is no definitive answer to any of them, I will do my utmost to speculate based on what is present.\n",
    "\n",
    "The two datasets I am choosing to look at are the world happiness rankings of 2015 and top 200 rated universities throughout the world in 2015. I did not pick that year because of any inclination toward it, but rather that was the overlapping year for the data. Should I have taken a different approach with this project, I could analyze how these ratings change over a number of years, but for now I would just like to investigate what is present."
   ]
  },
  {
   "cell_type": "code",
   "execution_count": 1,
   "metadata": {},
   "outputs": [],
   "source": [
    "#First Step: import all the necessary libraries\n",
    "\n",
    "import numpy as np              \n",
    "import pandas as pd\n",
    "import matplotlib.pyplot as plt\n",
    "import seaborn as sns\n",
    "%matplotlib inline"
   ]
  },
  {
   "cell_type": "code",
   "execution_count": 2,
   "metadata": {},
   "outputs": [
    {
     "data": {
      "text/html": [
       "<div>\n",
       "<style scoped>\n",
       "    .dataframe tbody tr th:only-of-type {\n",
       "        vertical-align: middle;\n",
       "    }\n",
       "\n",
       "    .dataframe tbody tr th {\n",
       "        vertical-align: top;\n",
       "    }\n",
       "\n",
       "    .dataframe thead th {\n",
       "        text-align: right;\n",
       "    }\n",
       "</style>\n",
       "<table border=\"1\" class=\"dataframe\">\n",
       "  <thead>\n",
       "    <tr style=\"text-align: right;\">\n",
       "      <th></th>\n",
       "      <th>Country</th>\n",
       "      <th>Region</th>\n",
       "      <th>Happiness Rank</th>\n",
       "      <th>Happiness Score</th>\n",
       "      <th>Standard Error</th>\n",
       "      <th>Economy (GDP per Capita)</th>\n",
       "      <th>Family</th>\n",
       "      <th>Health (Life Expectancy)</th>\n",
       "      <th>Freedom</th>\n",
       "      <th>Trust (Government Corruption)</th>\n",
       "      <th>Generosity</th>\n",
       "      <th>Dystopia Residual</th>\n",
       "    </tr>\n",
       "  </thead>\n",
       "  <tbody>\n",
       "    <tr>\n",
       "      <th>0</th>\n",
       "      <td>Switzerland</td>\n",
       "      <td>Western Europe</td>\n",
       "      <td>1</td>\n",
       "      <td>7.587</td>\n",
       "      <td>0.03411</td>\n",
       "      <td>1.39651</td>\n",
       "      <td>1.34951</td>\n",
       "      <td>0.94143</td>\n",
       "      <td>0.66557</td>\n",
       "      <td>0.41978</td>\n",
       "      <td>0.29678</td>\n",
       "      <td>2.51738</td>\n",
       "    </tr>\n",
       "    <tr>\n",
       "      <th>1</th>\n",
       "      <td>Iceland</td>\n",
       "      <td>Western Europe</td>\n",
       "      <td>2</td>\n",
       "      <td>7.561</td>\n",
       "      <td>0.04884</td>\n",
       "      <td>1.30232</td>\n",
       "      <td>1.40223</td>\n",
       "      <td>0.94784</td>\n",
       "      <td>0.62877</td>\n",
       "      <td>0.14145</td>\n",
       "      <td>0.43630</td>\n",
       "      <td>2.70201</td>\n",
       "    </tr>\n",
       "    <tr>\n",
       "      <th>2</th>\n",
       "      <td>Denmark</td>\n",
       "      <td>Western Europe</td>\n",
       "      <td>3</td>\n",
       "      <td>7.527</td>\n",
       "      <td>0.03328</td>\n",
       "      <td>1.32548</td>\n",
       "      <td>1.36058</td>\n",
       "      <td>0.87464</td>\n",
       "      <td>0.64938</td>\n",
       "      <td>0.48357</td>\n",
       "      <td>0.34139</td>\n",
       "      <td>2.49204</td>\n",
       "    </tr>\n",
       "    <tr>\n",
       "      <th>3</th>\n",
       "      <td>Norway</td>\n",
       "      <td>Western Europe</td>\n",
       "      <td>4</td>\n",
       "      <td>7.522</td>\n",
       "      <td>0.03880</td>\n",
       "      <td>1.45900</td>\n",
       "      <td>1.33095</td>\n",
       "      <td>0.88521</td>\n",
       "      <td>0.66973</td>\n",
       "      <td>0.36503</td>\n",
       "      <td>0.34699</td>\n",
       "      <td>2.46531</td>\n",
       "    </tr>\n",
       "    <tr>\n",
       "      <th>4</th>\n",
       "      <td>Canada</td>\n",
       "      <td>North America</td>\n",
       "      <td>5</td>\n",
       "      <td>7.427</td>\n",
       "      <td>0.03553</td>\n",
       "      <td>1.32629</td>\n",
       "      <td>1.32261</td>\n",
       "      <td>0.90563</td>\n",
       "      <td>0.63297</td>\n",
       "      <td>0.32957</td>\n",
       "      <td>0.45811</td>\n",
       "      <td>2.45176</td>\n",
       "    </tr>\n",
       "  </tbody>\n",
       "</table>\n",
       "</div>"
      ],
      "text/plain": [
       "       Country          Region  Happiness Rank  Happiness Score  \\\n",
       "0  Switzerland  Western Europe               1            7.587   \n",
       "1      Iceland  Western Europe               2            7.561   \n",
       "2      Denmark  Western Europe               3            7.527   \n",
       "3       Norway  Western Europe               4            7.522   \n",
       "4       Canada   North America               5            7.427   \n",
       "\n",
       "   Standard Error  Economy (GDP per Capita)   Family  \\\n",
       "0         0.03411                   1.39651  1.34951   \n",
       "1         0.04884                   1.30232  1.40223   \n",
       "2         0.03328                   1.32548  1.36058   \n",
       "3         0.03880                   1.45900  1.33095   \n",
       "4         0.03553                   1.32629  1.32261   \n",
       "\n",
       "   Health (Life Expectancy)  Freedom  Trust (Government Corruption)  \\\n",
       "0                   0.94143  0.66557                        0.41978   \n",
       "1                   0.94784  0.62877                        0.14145   \n",
       "2                   0.87464  0.64938                        0.48357   \n",
       "3                   0.88521  0.66973                        0.36503   \n",
       "4                   0.90563  0.63297                        0.32957   \n",
       "\n",
       "   Generosity  Dystopia Residual  \n",
       "0     0.29678            2.51738  \n",
       "1     0.43630            2.70201  \n",
       "2     0.34139            2.49204  \n",
       "3     0.34699            2.46531  \n",
       "4     0.45811            2.45176  "
      ]
     },
     "execution_count": 2,
     "metadata": {},
     "output_type": "execute_result"
    }
   ],
   "source": [
    "#Import the 2015 world happiness dataset\n",
    "\n",
    "hapdata = pd.read_csv(\"2015.csv\")\n",
    "hapdata.head()"
   ]
  },
  {
   "cell_type": "markdown",
   "metadata": {},
   "source": [
    "## 2015 World Happiness Data Dictionary\n",
    "\n",
    "1. Country - Name of country\n",
    "2. Region - Part of the world country is in\n",
    "3. Happiness Rank - Where the country scores relative to the rest of the world\n",
    "4. Happiness Score - Where citizens rank their happiness in the country on a scale of 1-10\n",
    "5. Standard Error - Potential error in the data (will not really be looked at)\n",
    "6. Economy (GDP per Capita) - A component of the happiness score (will not really be looked at)\n",
    "7. Family - A component of the happiness score (will not really be looked at)\n",
    "8. Health (Life Expectancy) - A component of the happiness score (will not really be looked at)\n",
    "9. Freedom - A component of the happiness score (will not really be looked at)\n",
    "10. Trust (Government Corruption) - A component of the happiness score (will not really be looked at)\n",
    "11. Generosity - A component of the happiness score (will not really be looked at)\n",
    "12. Dystopia Residual - A component of the happiness score (will not really be looked at)\n",
    "\n",
    "For the components I'm not really looking at for this project, I think they would be very interesting to look into another time. For now, I'm looking at the larger part: the happiness score."
   ]
  },
  {
   "cell_type": "code",
   "execution_count": 3,
   "metadata": {},
   "outputs": [
    {
     "data": {
      "text/html": [
       "<div>\n",
       "<style scoped>\n",
       "    .dataframe tbody tr th:only-of-type {\n",
       "        vertical-align: middle;\n",
       "    }\n",
       "\n",
       "    .dataframe tbody tr th {\n",
       "        vertical-align: top;\n",
       "    }\n",
       "\n",
       "    .dataframe thead th {\n",
       "        text-align: right;\n",
       "    }\n",
       "</style>\n",
       "<table border=\"1\" class=\"dataframe\">\n",
       "  <thead>\n",
       "    <tr style=\"text-align: right;\">\n",
       "      <th></th>\n",
       "      <th>world_rank</th>\n",
       "      <th>university_name</th>\n",
       "      <th>country</th>\n",
       "      <th>teaching</th>\n",
       "      <th>international</th>\n",
       "      <th>research</th>\n",
       "      <th>citations</th>\n",
       "      <th>income</th>\n",
       "      <th>total_score</th>\n",
       "      <th>num_students</th>\n",
       "      <th>student_staff_ratio</th>\n",
       "      <th>international_students</th>\n",
       "      <th>female_male_ratio</th>\n",
       "      <th>year</th>\n",
       "    </tr>\n",
       "  </thead>\n",
       "  <tbody>\n",
       "    <tr>\n",
       "      <th>0</th>\n",
       "      <td>1</td>\n",
       "      <td>Harvard University</td>\n",
       "      <td>United States of America</td>\n",
       "      <td>99.7</td>\n",
       "      <td>72.4</td>\n",
       "      <td>98.7</td>\n",
       "      <td>98.8</td>\n",
       "      <td>34.5</td>\n",
       "      <td>96.1</td>\n",
       "      <td>20152.0</td>\n",
       "      <td>8.9</td>\n",
       "      <td>0.25</td>\n",
       "      <td>NaN</td>\n",
       "      <td>2011</td>\n",
       "    </tr>\n",
       "    <tr>\n",
       "      <th>1</th>\n",
       "      <td>2</td>\n",
       "      <td>California Institute of Technology</td>\n",
       "      <td>United States of America</td>\n",
       "      <td>97.7</td>\n",
       "      <td>54.6</td>\n",
       "      <td>98.0</td>\n",
       "      <td>99.9</td>\n",
       "      <td>83.7</td>\n",
       "      <td>96</td>\n",
       "      <td>2243.0</td>\n",
       "      <td>6.9</td>\n",
       "      <td>0.27</td>\n",
       "      <td>33 : 67</td>\n",
       "      <td>2011</td>\n",
       "    </tr>\n",
       "    <tr>\n",
       "      <th>2</th>\n",
       "      <td>3</td>\n",
       "      <td>Massachusetts Institute of Technology</td>\n",
       "      <td>United States of America</td>\n",
       "      <td>97.8</td>\n",
       "      <td>82.3</td>\n",
       "      <td>91.4</td>\n",
       "      <td>99.9</td>\n",
       "      <td>87.5</td>\n",
       "      <td>95.6</td>\n",
       "      <td>11074.0</td>\n",
       "      <td>9.0</td>\n",
       "      <td>0.33</td>\n",
       "      <td>37 : 63</td>\n",
       "      <td>2011</td>\n",
       "    </tr>\n",
       "    <tr>\n",
       "      <th>3</th>\n",
       "      <td>4</td>\n",
       "      <td>Stanford University</td>\n",
       "      <td>United States of America</td>\n",
       "      <td>98.3</td>\n",
       "      <td>29.5</td>\n",
       "      <td>98.1</td>\n",
       "      <td>99.2</td>\n",
       "      <td>64.3</td>\n",
       "      <td>94.3</td>\n",
       "      <td>15596.0</td>\n",
       "      <td>7.8</td>\n",
       "      <td>0.22</td>\n",
       "      <td>42:58:00</td>\n",
       "      <td>2011</td>\n",
       "    </tr>\n",
       "    <tr>\n",
       "      <th>4</th>\n",
       "      <td>5</td>\n",
       "      <td>Princeton University</td>\n",
       "      <td>United States of America</td>\n",
       "      <td>90.9</td>\n",
       "      <td>70.3</td>\n",
       "      <td>95.4</td>\n",
       "      <td>99.9</td>\n",
       "      <td>-</td>\n",
       "      <td>94.2</td>\n",
       "      <td>7929.0</td>\n",
       "      <td>8.4</td>\n",
       "      <td>0.27</td>\n",
       "      <td>45:55:00</td>\n",
       "      <td>2011</td>\n",
       "    </tr>\n",
       "  </tbody>\n",
       "</table>\n",
       "</div>"
      ],
      "text/plain": [
       "  world_rank                        university_name                   country  \\\n",
       "0          1                     Harvard University  United States of America   \n",
       "1          2     California Institute of Technology  United States of America   \n",
       "2          3  Massachusetts Institute of Technology  United States of America   \n",
       "3          4                    Stanford University  United States of America   \n",
       "4          5                   Princeton University  United States of America   \n",
       "\n",
       "   teaching international  research  citations income total_score  \\\n",
       "0      99.7          72.4      98.7       98.8   34.5        96.1   \n",
       "1      97.7          54.6      98.0       99.9   83.7          96   \n",
       "2      97.8          82.3      91.4       99.9   87.5        95.6   \n",
       "3      98.3          29.5      98.1       99.2   64.3        94.3   \n",
       "4      90.9          70.3      95.4       99.9      -        94.2   \n",
       "\n",
       "   num_students  student_staff_ratio  international_students  \\\n",
       "0       20152.0                  8.9                    0.25   \n",
       "1        2243.0                  6.9                    0.27   \n",
       "2       11074.0                  9.0                    0.33   \n",
       "3       15596.0                  7.8                    0.22   \n",
       "4        7929.0                  8.4                    0.27   \n",
       "\n",
       "  female_male_ratio  year  \n",
       "0               NaN  2011  \n",
       "1           33 : 67  2011  \n",
       "2           37 : 63  2011  \n",
       "3          42:58:00  2011  \n",
       "4          45:55:00  2011  "
      ]
     },
     "execution_count": 3,
     "metadata": {},
     "output_type": "execute_result"
    }
   ],
   "source": [
    "#Import the top world universities dataset\n",
    "\n",
    "univdata = pd.read_csv(\"timesData.csv\")\n",
    "univdata.head()"
   ]
  },
  {
   "cell_type": "markdown",
   "metadata": {},
   "source": [
    "## Top World Universities Data Dictionary\n",
    "\n",
    "1. world_rank - Ranking relative to the rest of the universities\n",
    "2. university_name - Name of the university\n",
    "3. country - Which country the university is located in (will link to happiness dataset)\n",
    "4. teaching - Score for the teaching (will not really be looked at)\n",
    "5. international - Score for international outlook (staff, students, research) (will not really be looked at)\n",
    "6. research - Score for research (volume, income, reputation) (will not really be looked at)\n",
    "7. citations - Score for citations (research influence) (will not really be looked at)\n",
    "8. income - Score for industry income (will not really be looked at)\n",
    "9. total_score - Total score used to determine rank\n",
    "10. num_students - Total number of students at that year\n",
    "11. student_staff_ratio - # Students : 1 Staff\n",
    "12. international_students - Number of international students\n",
    "13. female_male_ratio - Female students : male students (of course this brings into question, what about nonbinary students or students outside of the female/male binary, but the data does not think about that)\n",
    "14. year - Rankings for a certain year, though I'm going to limit the data to 2015\n",
    "\n",
    "I say now that teaching, international, research, citations, and income will not be looked at because they're just components of the total score. But, if I find a pressing need to look at them, I will do so."
   ]
  },
  {
   "cell_type": "markdown",
   "metadata": {},
   "source": [
    "# Limiting Top World Universities to 2015"
   ]
  },
  {
   "cell_type": "code",
   "execution_count": 4,
   "metadata": {},
   "outputs": [
    {
     "data": {
      "text/html": [
       "<div>\n",
       "<style scoped>\n",
       "    .dataframe tbody tr th:only-of-type {\n",
       "        vertical-align: middle;\n",
       "    }\n",
       "\n",
       "    .dataframe tbody tr th {\n",
       "        vertical-align: top;\n",
       "    }\n",
       "\n",
       "    .dataframe thead th {\n",
       "        text-align: right;\n",
       "    }\n",
       "</style>\n",
       "<table border=\"1\" class=\"dataframe\">\n",
       "  <thead>\n",
       "    <tr style=\"text-align: right;\">\n",
       "      <th></th>\n",
       "      <th>world_rank</th>\n",
       "      <th>university_name</th>\n",
       "      <th>country</th>\n",
       "      <th>teaching</th>\n",
       "      <th>international</th>\n",
       "      <th>research</th>\n",
       "      <th>citations</th>\n",
       "      <th>income</th>\n",
       "      <th>total_score</th>\n",
       "      <th>num_students</th>\n",
       "      <th>student_staff_ratio</th>\n",
       "      <th>international_students</th>\n",
       "      <th>female_male_ratio</th>\n",
       "      <th>year</th>\n",
       "    </tr>\n",
       "  </thead>\n",
       "  <tbody>\n",
       "    <tr>\n",
       "      <th>1402</th>\n",
       "      <td>1</td>\n",
       "      <td>California Institute of Technology</td>\n",
       "      <td>United States of America</td>\n",
       "      <td>92.2</td>\n",
       "      <td>67</td>\n",
       "      <td>98.1</td>\n",
       "      <td>99.7</td>\n",
       "      <td>89.1</td>\n",
       "      <td>94.3</td>\n",
       "      <td>2243.0</td>\n",
       "      <td>6.9</td>\n",
       "      <td>0.27</td>\n",
       "      <td>33 : 67</td>\n",
       "      <td>2015</td>\n",
       "    </tr>\n",
       "    <tr>\n",
       "      <th>1403</th>\n",
       "      <td>2</td>\n",
       "      <td>Harvard University</td>\n",
       "      <td>United States of America</td>\n",
       "      <td>92.9</td>\n",
       "      <td>67.6</td>\n",
       "      <td>98.6</td>\n",
       "      <td>98.9</td>\n",
       "      <td>44</td>\n",
       "      <td>93.3</td>\n",
       "      <td>20152.0</td>\n",
       "      <td>8.9</td>\n",
       "      <td>0.25</td>\n",
       "      <td>NaN</td>\n",
       "      <td>2015</td>\n",
       "    </tr>\n",
       "    <tr>\n",
       "      <th>1404</th>\n",
       "      <td>3</td>\n",
       "      <td>University of Oxford</td>\n",
       "      <td>United Kingdom</td>\n",
       "      <td>88.6</td>\n",
       "      <td>90.7</td>\n",
       "      <td>97.7</td>\n",
       "      <td>95.5</td>\n",
       "      <td>72.9</td>\n",
       "      <td>93.2</td>\n",
       "      <td>19919.0</td>\n",
       "      <td>11.6</td>\n",
       "      <td>0.34</td>\n",
       "      <td>46:54:00</td>\n",
       "      <td>2015</td>\n",
       "    </tr>\n",
       "    <tr>\n",
       "      <th>1405</th>\n",
       "      <td>4</td>\n",
       "      <td>Stanford University</td>\n",
       "      <td>United States of America</td>\n",
       "      <td>91.5</td>\n",
       "      <td>69</td>\n",
       "      <td>96.7</td>\n",
       "      <td>99.1</td>\n",
       "      <td>63.1</td>\n",
       "      <td>92.9</td>\n",
       "      <td>15596.0</td>\n",
       "      <td>7.8</td>\n",
       "      <td>0.22</td>\n",
       "      <td>42:58:00</td>\n",
       "      <td>2015</td>\n",
       "    </tr>\n",
       "    <tr>\n",
       "      <th>1406</th>\n",
       "      <td>5</td>\n",
       "      <td>University of Cambridge</td>\n",
       "      <td>United Kingdom</td>\n",
       "      <td>89.7</td>\n",
       "      <td>87.8</td>\n",
       "      <td>95.6</td>\n",
       "      <td>95.2</td>\n",
       "      <td>51.1</td>\n",
       "      <td>92</td>\n",
       "      <td>18812.0</td>\n",
       "      <td>11.8</td>\n",
       "      <td>0.34</td>\n",
       "      <td>46:54:00</td>\n",
       "      <td>2015</td>\n",
       "    </tr>\n",
       "  </tbody>\n",
       "</table>\n",
       "</div>"
      ],
      "text/plain": [
       "     world_rank                     university_name                   country  \\\n",
       "1402          1  California Institute of Technology  United States of America   \n",
       "1403          2                  Harvard University  United States of America   \n",
       "1404          3                University of Oxford            United Kingdom   \n",
       "1405          4                 Stanford University  United States of America   \n",
       "1406          5             University of Cambridge            United Kingdom   \n",
       "\n",
       "      teaching international  research  citations income total_score  \\\n",
       "1402      92.2            67      98.1       99.7   89.1        94.3   \n",
       "1403      92.9          67.6      98.6       98.9     44        93.3   \n",
       "1404      88.6          90.7      97.7       95.5   72.9        93.2   \n",
       "1405      91.5            69      96.7       99.1   63.1        92.9   \n",
       "1406      89.7          87.8      95.6       95.2   51.1          92   \n",
       "\n",
       "      num_students  student_staff_ratio  international_students  \\\n",
       "1402        2243.0                  6.9                    0.27   \n",
       "1403       20152.0                  8.9                    0.25   \n",
       "1404       19919.0                 11.6                    0.34   \n",
       "1405       15596.0                  7.8                    0.22   \n",
       "1406       18812.0                 11.8                    0.34   \n",
       "\n",
       "     female_male_ratio  year  \n",
       "1402           33 : 67  2015  \n",
       "1403               NaN  2015  \n",
       "1404          46:54:00  2015  \n",
       "1405          42:58:00  2015  \n",
       "1406          46:54:00  2015  "
      ]
     },
     "execution_count": 4,
     "metadata": {},
     "output_type": "execute_result"
    }
   ],
   "source": [
    "#The query will search only for items that had the year 2015 and limit the dataset to that year\n",
    "q = 'year == 2015'\n",
    "univdata = univdata.query(q)\n",
    "univdata.head()"
   ]
  },
  {
   "cell_type": "markdown",
   "metadata": {},
   "source": [
    "## Is anything missing in any of my datasets?"
   ]
  },
  {
   "cell_type": "code",
   "execution_count": 5,
   "metadata": {},
   "outputs": [
    {
     "data": {
      "text/plain": [
       "Country                          158\n",
       "Region                           158\n",
       "Happiness Rank                   158\n",
       "Happiness Score                  158\n",
       "Standard Error                   158\n",
       "Economy (GDP per Capita)         158\n",
       "Family                           158\n",
       "Health (Life Expectancy)         158\n",
       "Freedom                          158\n",
       "Trust (Government Corruption)    158\n",
       "Generosity                       158\n",
       "Dystopia Residual                158\n",
       "dtype: int64"
      ]
     },
     "execution_count": 5,
     "metadata": {},
     "output_type": "execute_result"
    }
   ],
   "source": [
    "#How many items in each column?\n",
    "hapdata.count()"
   ]
  },
  {
   "cell_type": "markdown",
   "metadata": {},
   "source": [
    "So, nothing is missing from the world happiness dataset. Woohoo!"
   ]
  },
  {
   "cell_type": "code",
   "execution_count": 6,
   "metadata": {},
   "outputs": [
    {
     "data": {
      "text/plain": [
       "world_rank                401\n",
       "university_name           401\n",
       "country                   401\n",
       "teaching                  401\n",
       "international             401\n",
       "research                  401\n",
       "citations                 401\n",
       "income                    401\n",
       "total_score               401\n",
       "num_students              390\n",
       "student_staff_ratio       390\n",
       "international_students    389\n",
       "female_male_ratio         363\n",
       "year                      401\n",
       "dtype: int64"
      ]
     },
     "execution_count": 6,
     "metadata": {},
     "output_type": "execute_result"
    }
   ],
   "source": [
    "#How many items in each column?\n",
    "univdata.count()"
   ]
  },
  {
   "cell_type": "markdown",
   "metadata": {},
   "source": [
    "We have some things missing from the university data. Nooooooo."
   ]
  },
  {
   "cell_type": "markdown",
   "metadata": {},
   "source": [
    "I'm just going to try to drop these missing values!"
   ]
  },
  {
   "cell_type": "code",
   "execution_count": 7,
   "metadata": {},
   "outputs": [],
   "source": [
    "#Drop any rows w/ missing values\n",
    "univdata = univdata.dropna()"
   ]
  },
  {
   "cell_type": "code",
   "execution_count": 8,
   "metadata": {
    "scrolled": true
   },
   "outputs": [
    {
     "data": {
      "text/plain": [
       "world_rank                362\n",
       "university_name           362\n",
       "country                   362\n",
       "teaching                  362\n",
       "international             362\n",
       "research                  362\n",
       "citations                 362\n",
       "income                    362\n",
       "total_score               362\n",
       "num_students              362\n",
       "student_staff_ratio       362\n",
       "international_students    362\n",
       "female_male_ratio         362\n",
       "year                      362\n",
       "dtype: int64"
      ]
     },
     "execution_count": 8,
     "metadata": {},
     "output_type": "execute_result"
    }
   ],
   "source": [
    "#How many items in each column?\n",
    "univdata.count()"
   ]
  },
  {
   "cell_type": "code",
   "execution_count": 9,
   "metadata": {
    "scrolled": true
   },
   "outputs": [
    {
     "data": {
      "text/html": [
       "<div>\n",
       "<style scoped>\n",
       "    .dataframe tbody tr th:only-of-type {\n",
       "        vertical-align: middle;\n",
       "    }\n",
       "\n",
       "    .dataframe tbody tr th {\n",
       "        vertical-align: top;\n",
       "    }\n",
       "\n",
       "    .dataframe thead th {\n",
       "        text-align: right;\n",
       "    }\n",
       "</style>\n",
       "<table border=\"1\" class=\"dataframe\">\n",
       "  <thead>\n",
       "    <tr style=\"text-align: right;\">\n",
       "      <th></th>\n",
       "      <th>world_rank</th>\n",
       "      <th>university_name</th>\n",
       "      <th>country</th>\n",
       "      <th>teaching</th>\n",
       "      <th>international</th>\n",
       "      <th>research</th>\n",
       "      <th>citations</th>\n",
       "      <th>income</th>\n",
       "      <th>total_score</th>\n",
       "      <th>num_students</th>\n",
       "      <th>student_staff_ratio</th>\n",
       "      <th>international_students</th>\n",
       "      <th>female_male_ratio</th>\n",
       "      <th>year</th>\n",
       "    </tr>\n",
       "  </thead>\n",
       "  <tbody>\n",
       "    <tr>\n",
       "      <th>1402</th>\n",
       "      <td>1</td>\n",
       "      <td>California Institute of Technology</td>\n",
       "      <td>United States of America</td>\n",
       "      <td>92.2</td>\n",
       "      <td>67</td>\n",
       "      <td>98.1</td>\n",
       "      <td>99.7</td>\n",
       "      <td>89.1</td>\n",
       "      <td>94.3</td>\n",
       "      <td>2243.0</td>\n",
       "      <td>6.9</td>\n",
       "      <td>0.27</td>\n",
       "      <td>33 : 67</td>\n",
       "      <td>2015</td>\n",
       "    </tr>\n",
       "    <tr>\n",
       "      <th>1404</th>\n",
       "      <td>3</td>\n",
       "      <td>University of Oxford</td>\n",
       "      <td>United Kingdom</td>\n",
       "      <td>88.6</td>\n",
       "      <td>90.7</td>\n",
       "      <td>97.7</td>\n",
       "      <td>95.5</td>\n",
       "      <td>72.9</td>\n",
       "      <td>93.2</td>\n",
       "      <td>19919.0</td>\n",
       "      <td>11.6</td>\n",
       "      <td>0.34</td>\n",
       "      <td>46:54:00</td>\n",
       "      <td>2015</td>\n",
       "    </tr>\n",
       "    <tr>\n",
       "      <th>1405</th>\n",
       "      <td>4</td>\n",
       "      <td>Stanford University</td>\n",
       "      <td>United States of America</td>\n",
       "      <td>91.5</td>\n",
       "      <td>69</td>\n",
       "      <td>96.7</td>\n",
       "      <td>99.1</td>\n",
       "      <td>63.1</td>\n",
       "      <td>92.9</td>\n",
       "      <td>15596.0</td>\n",
       "      <td>7.8</td>\n",
       "      <td>0.22</td>\n",
       "      <td>42:58:00</td>\n",
       "      <td>2015</td>\n",
       "    </tr>\n",
       "    <tr>\n",
       "      <th>1406</th>\n",
       "      <td>5</td>\n",
       "      <td>University of Cambridge</td>\n",
       "      <td>United Kingdom</td>\n",
       "      <td>89.7</td>\n",
       "      <td>87.8</td>\n",
       "      <td>95.6</td>\n",
       "      <td>95.2</td>\n",
       "      <td>51.1</td>\n",
       "      <td>92</td>\n",
       "      <td>18812.0</td>\n",
       "      <td>11.8</td>\n",
       "      <td>0.34</td>\n",
       "      <td>46:54:00</td>\n",
       "      <td>2015</td>\n",
       "    </tr>\n",
       "    <tr>\n",
       "      <th>1407</th>\n",
       "      <td>6</td>\n",
       "      <td>Massachusetts Institute of Technology</td>\n",
       "      <td>United States of America</td>\n",
       "      <td>89.1</td>\n",
       "      <td>84.3</td>\n",
       "      <td>88.2</td>\n",
       "      <td>100.0</td>\n",
       "      <td>95.7</td>\n",
       "      <td>91.9</td>\n",
       "      <td>11074.0</td>\n",
       "      <td>9.0</td>\n",
       "      <td>0.33</td>\n",
       "      <td>37 : 63</td>\n",
       "      <td>2015</td>\n",
       "    </tr>\n",
       "  </tbody>\n",
       "</table>\n",
       "</div>"
      ],
      "text/plain": [
       "     world_rank                        university_name  \\\n",
       "1402          1     California Institute of Technology   \n",
       "1404          3                   University of Oxford   \n",
       "1405          4                    Stanford University   \n",
       "1406          5                University of Cambridge   \n",
       "1407          6  Massachusetts Institute of Technology   \n",
       "\n",
       "                       country  teaching international  research  citations  \\\n",
       "1402  United States of America      92.2            67      98.1       99.7   \n",
       "1404            United Kingdom      88.6          90.7      97.7       95.5   \n",
       "1405  United States of America      91.5            69      96.7       99.1   \n",
       "1406            United Kingdom      89.7          87.8      95.6       95.2   \n",
       "1407  United States of America      89.1          84.3      88.2      100.0   \n",
       "\n",
       "     income total_score  num_students  student_staff_ratio  \\\n",
       "1402   89.1        94.3        2243.0                  6.9   \n",
       "1404   72.9        93.2       19919.0                 11.6   \n",
       "1405   63.1        92.9       15596.0                  7.8   \n",
       "1406   51.1          92       18812.0                 11.8   \n",
       "1407   95.7        91.9       11074.0                  9.0   \n",
       "\n",
       "      international_students female_male_ratio  year  \n",
       "1402                    0.27           33 : 67  2015  \n",
       "1404                    0.34          46:54:00  2015  \n",
       "1405                    0.22          42:58:00  2015  \n",
       "1406                    0.34          46:54:00  2015  \n",
       "1407                    0.33           37 : 63  2015  "
      ]
     },
     "execution_count": 9,
     "metadata": {},
     "output_type": "execute_result"
    }
   ],
   "source": [
    "univdata.head()"
   ]
  },
  {
   "cell_type": "markdown",
   "metadata": {},
   "source": [
    "Okay, I guess this works. If a university had any sort of missing data, they got dropped.<br>\n",
    "Disclaimer now that this dataset will not cover *every single university* as I'd like it to, but I have to work with that I can.<br>\n",
    "So, it is not complete, but we will keep that in mind."
   ]
  },
  {
   "cell_type": "code",
   "execution_count": 10,
   "metadata": {},
   "outputs": [
    {
     "data": {
      "text/plain": [
       "Country                           object\n",
       "Region                            object\n",
       "Happiness Rank                     int64\n",
       "Happiness Score                  float64\n",
       "Standard Error                   float64\n",
       "Economy (GDP per Capita)         float64\n",
       "Family                           float64\n",
       "Health (Life Expectancy)         float64\n",
       "Freedom                          float64\n",
       "Trust (Government Corruption)    float64\n",
       "Generosity                       float64\n",
       "Dystopia Residual                float64\n",
       "dtype: object"
      ]
     },
     "execution_count": 10,
     "metadata": {},
     "output_type": "execute_result"
    }
   ],
   "source": [
    "#What are the values in each chart?\n",
    "hapdata.dtypes"
   ]
  },
  {
   "cell_type": "code",
   "execution_count": 11,
   "metadata": {},
   "outputs": [
    {
     "data": {
      "text/plain": [
       "world_rank                 object\n",
       "university_name            object\n",
       "country                    object\n",
       "teaching                  float64\n",
       "international              object\n",
       "research                  float64\n",
       "citations                 float64\n",
       "income                     object\n",
       "total_score                object\n",
       "num_students              float64\n",
       "student_staff_ratio       float64\n",
       "international_students    float64\n",
       "female_male_ratio          object\n",
       "year                        int64\n",
       "dtype: object"
      ]
     },
     "execution_count": 11,
     "metadata": {},
     "output_type": "execute_result"
    }
   ],
   "source": [
    "#What are the values in each chart?\n",
    "univdata.dtypes"
   ]
  },
  {
   "cell_type": "markdown",
   "metadata": {},
   "source": [
    "Why are so many of the numeric values objects? Let's (try to) fix that!"
   ]
  },
  {
   "cell_type": "code",
   "execution_count": 12,
   "metadata": {
    "scrolled": true
   },
   "outputs": [
    {
     "name": "stderr",
     "output_type": "stream",
     "text": [
      "<ipython-input-12-6cdbf9903322>:3: SettingWithCopyWarning: \n",
      "A value is trying to be set on a copy of a slice from a DataFrame.\n",
      "Try using .loc[row_indexer,col_indexer] = value instead\n",
      "\n",
      "See the caveats in the documentation: https://pandas.pydata.org/pandas-docs/stable/user_guide/indexing.html#returning-a-view-versus-a-copy\n",
      "  temp['total_score'] = pd.to_numeric(temp['total_score'])\n"
     ]
    },
    {
     "data": {
      "text/plain": [
       "world_rank                 object\n",
       "university_name            object\n",
       "country                    object\n",
       "teaching                  float64\n",
       "international              object\n",
       "research                  float64\n",
       "citations                 float64\n",
       "income                     object\n",
       "total_score               float64\n",
       "num_students              float64\n",
       "student_staff_ratio       float64\n",
       "international_students    float64\n",
       "female_male_ratio          object\n",
       "year                        int64\n",
       "dtype: object"
      ]
     },
     "execution_count": 12,
     "metadata": {},
     "output_type": "execute_result"
    }
   ],
   "source": [
    "#The problem was that a lot of the total_score values were -s, so we'll take those out of the dataset.\n",
    "temp = univdata.query(\"total_score != '-'\")\n",
    "temp['total_score'] = pd.to_numeric(temp['total_score'])\n",
    "univdata = temp\n",
    "#A check to make sure the code above works (of course it does, Dmitriy helped me with it. Thank you!).\n",
    "univdata.dtypes"
   ]
  },
  {
   "cell_type": "markdown",
   "metadata": {},
   "source": [
    "Much better! The female_male_ratio thing is a little tough to look at, I'm not entirely sure how to present a ratio in graphical format. It may have to be part of speculation."
   ]
  },
  {
   "cell_type": "code",
   "execution_count": 13,
   "metadata": {},
   "outputs": [
    {
     "data": {
      "text/plain": [
       "world_rank                182\n",
       "university_name           182\n",
       "country                   182\n",
       "teaching                  182\n",
       "international             182\n",
       "research                  182\n",
       "citations                 182\n",
       "income                    182\n",
       "total_score               182\n",
       "num_students              182\n",
       "student_staff_ratio       182\n",
       "international_students    182\n",
       "female_male_ratio         182\n",
       "year                      182\n",
       "dtype: int64"
      ]
     },
     "execution_count": 13,
     "metadata": {},
     "output_type": "execute_result"
    }
   ],
   "source": [
    "#How many items in each column?\n",
    "univdata.count()"
   ]
  },
  {
   "cell_type": "markdown",
   "metadata": {},
   "source": [
    "We're left looking at 182 universities from the original 400. So, again, this is not going to include *every single university* as I'd like it to, but rather the ones that have possible data to look at and graph."
   ]
  },
  {
   "cell_type": "markdown",
   "metadata": {},
   "source": [
    "Well! The data is all set up and ready to go. What can we learn from it?"
   ]
  },
  {
   "cell_type": "markdown",
   "metadata": {},
   "source": [
    "### Let's look at some information from the world happiness data!"
   ]
  },
  {
   "cell_type": "code",
   "execution_count": 14,
   "metadata": {
    "scrolled": true
   },
   "outputs": [
    {
     "data": {
      "text/plain": [
       "<AxesSubplot:xlabel='Region'>"
      ]
     },
     "execution_count": 14,
     "metadata": {},
     "output_type": "execute_result"
    },
    {
     "data": {
      "image/png": "[encoded data removed]",
      "text/plain": [
       "<Figure size 432x288 with 1 Axes>"
      ]
     },
     "metadata": {
      "needs_background": "light"
     },
     "output_type": "display_data"
    }
   ],
   "source": [
    "hapdata.groupby('Region').agg({'Happiness Score' : 'mean'}).plot.bar(color = [(.71, .6, .96)])"
   ]
  },
  {
   "cell_type": "markdown",
   "metadata": {},
   "source": [
    "With the happiness dataset, we see that Australia and New Zealand and North America are the best of the world in terms of happiness score with Western Europe close behind. The worst regions of the world to live in according to happiness score are Sub-Saharan Africa and Southern Asia.\n",
    "\n",
    "Let's see how that works with the number of countries, though."
   ]
  },
  {
   "cell_type": "code",
   "execution_count": 15,
   "metadata": {},
   "outputs": [
    {
     "data": {
      "text/plain": [
       "<AxesSubplot:>"
      ]
     },
     "execution_count": 15,
     "metadata": {},
     "output_type": "execute_result"
    },
    {
     "data": {
      "image/png": "[encoded data removed]",
      "text/plain": [
       "<Figure size 432x288 with 1 Axes>"
      ]
     },
     "metadata": {
      "needs_background": "light"
     },
     "output_type": "display_data"
    }
   ],
   "source": [
    "hapdata['Region'].value_counts().plot.bar(color = [(.71, .6, .96)])"
   ]
  },
  {
   "cell_type": "markdown",
   "metadata": {},
   "source": [
    "North America and Australia/New Zealand by far have the fewest number of countries to consider, so it makes sense that their scores may be at the top.\n",
    "Meanwhile, Sub-Saharan Africa has the most countries to account for along with the lowest average happiness ranking.\n",
    "I'm not saying that fewer countries per region = increased happiness, but this is something to consider when asking 'why?'."
   ]
  },
  {
   "cell_type": "markdown",
   "metadata": {},
   "source": [
    "### Let's look at some information from the top universities data!"
   ]
  },
  {
   "cell_type": "code",
   "execution_count": 16,
   "metadata": {},
   "outputs": [
    {
     "data": {
      "text/plain": [
       "<AxesSubplot:>"
      ]
     },
     "execution_count": 16,
     "metadata": {},
     "output_type": "execute_result"
    },
    {
     "data": {
      "image/png": "[encoded data removed]",
      "text/plain": [
       "<Figure size 432x288 with 1 Axes>"
      ]
     },
     "metadata": {
      "needs_background": "light"
     },
     "output_type": "display_data"
    }
   ],
   "source": [
    "univdata['country'].value_counts().plot.bar(color = [(.16, .55, .18)])"
   ]
  },
  {
   "cell_type": "markdown",
   "metadata": {},
   "source": [
    "By far, this shows that the United States has the most universities on this list (close to 70 out of 182). But, does that necessarily mean that the schools are *better*?"
   ]
  },
  {
   "cell_type": "code",
   "execution_count": 17,
   "metadata": {},
   "outputs": [
    {
     "data": {
      "text/plain": [
       "<AxesSubplot:xlabel='country'>"
      ]
     },
     "execution_count": 17,
     "metadata": {},
     "output_type": "execute_result"
    },
    {
     "data": {
      "image/png": "[encoded data removed]",
      "text/plain": [
       "<Figure size 432x288 with 1 Axes>"
      ]
     },
     "metadata": {
      "needs_background": "light"
     },
     "output_type": "display_data"
    }
   ],
   "source": [
    "univdata.groupby('country').agg({'total_score' : 'mean'}).plot.bar(color = [(.16, .55, .18)])"
   ]
  },
  {
   "cell_type": "markdown",
   "metadata": {},
   "source": [
    "Hmmm. So, (apologies that the bar graph is rather crunched), Singapore has, by average score, the best universities in the world. Second to that look like Australia, Italy, Switzerland, and the United States, all pretty close to one another.<br>\n",
    "Already I can kind of see that Australia and the United States make top appearances in both datasets, but what kind of factors affect this?"
   ]
  },
  {
   "cell_type": "code",
   "execution_count": 18,
   "metadata": {},
   "outputs": [
    {
     "data": {
      "text/plain": [
       "<AxesSubplot:>"
      ]
     },
     "execution_count": 18,
     "metadata": {},
     "output_type": "execute_result"
    },
    {
     "data": {
      "image/png": "[encoded data removed]",
      "text/plain": [
       "<Figure size 432x288 with 1 Axes>"
      ]
     },
     "metadata": {
      "needs_background": "light"
     },
     "output_type": "display_data"
    }
   ],
   "source": [
    "univdata['num_students'].plot.box()"
   ]
  },
  {
   "cell_type": "markdown",
   "metadata": {},
   "source": [
    "So, most universities fall between what looks like the 18,000-30,000 student range with the average somewhere around 22,000 or so. It would make a lot of sense that countries that educate more of their citizens would be happier, right?<br>\n",
    "But, how many of these students are actually from that country?"
   ]
  },
  {
   "cell_type": "code",
   "execution_count": 19,
   "metadata": {},
   "outputs": [
    {
     "data": {
      "text/plain": [
       "<AxesSubplot:>"
      ]
     },
     "execution_count": 19,
     "metadata": {},
     "output_type": "execute_result"
    },
    {
     "data": {
      "image/png": "[encoded data removed]",
      "text/plain": [
       "<Figure size 432x288 with 1 Axes>"
      ]
     },
     "metadata": {
      "needs_background": "light"
     },
     "output_type": "display_data"
    }
   ],
   "source": [
    "univdata['international_students'].plot.box()"
   ]
  },
  {
   "cell_type": "markdown",
   "metadata": {},
   "source": [
    "So, it looks like on average, most universities fall somewhere between 12 (or so) % and 25 (or so) % of international students with the average somewhere around 20%. If one in five students are international, that means that the vast majority of students are from the same country. With that, we could assume that it's great that these universities offer so many opportunities to in-country residents, but that assumption would be wrong. It is completely inappropriate to say that every single person who lives in the country has equal access to higher education.<br>\n",
    "It is at this point that I would love to bring in the female:male ratio and investigate at first this difference. However, as I do not think it would be easily adapted to graph format, I'll briefly explore it through the present data."
   ]
  },
  {
   "cell_type": "code",
   "execution_count": 20,
   "metadata": {
    "scrolled": true
   },
   "outputs": [
    {
     "name": "stdout",
     "output_type": "stream",
     "text": [
      "1402     33 : 67\n",
      "1404    46:54:00\n",
      "1405    42:58:00\n",
      "1406    46:54:00\n",
      "1407     37 : 63\n",
      "          ...   \n",
      "1598    61:39:00\n",
      "1599    58:42:00\n",
      "1600    54:46:00\n",
      "1601     34 : 66\n",
      "1602    56:44:00\n",
      "Name: female_male_ratio, Length: 182, dtype: object\n"
     ]
    }
   ],
   "source": [
    "print(univdata['female_male_ratio'])"
   ]
  },
  {
   "cell_type": "markdown",
   "metadata": {},
   "source": [
    "Out of the 10 values present, six have a majority of male students. If we take that as an example, that means these top-rated universities overwhelmingly accept more male students than female students. However, the data still lacks any detail about nonbinary or non-gender-binary-conforming students, making the dataset truly incomplete.<br>\n",
    "More demographic information lacking in the dataset include the race of attending students, family income, whether or not students are first-year college students, etc.."
   ]
  },
  {
   "cell_type": "markdown",
   "metadata": {},
   "source": [
    "That is another thing lacking in the world happiness data. *Who* is actually considered happy? Is it every single citizen in the country whose opinion is taken into account? Is it only the privileged? Are those people taken out of the equation? What time of year was this survey taken? Was it during an especially stressful time of year?"
   ]
  },
  {
   "cell_type": "markdown",
   "metadata": {},
   "source": [
    "### Final Observations\n",
    "\n",
    "For my final observations, I'd like to combine the two datasets and see what correlations exist within a heatmap."
   ]
  },
  {
   "cell_type": "code",
   "execution_count": 21,
   "metadata": {
    "scrolled": true
   },
   "outputs": [
    {
     "data": {
      "text/html": [
       "<div>\n",
       "<style scoped>\n",
       "    .dataframe tbody tr th:only-of-type {\n",
       "        vertical-align: middle;\n",
       "    }\n",
       "\n",
       "    .dataframe tbody tr th {\n",
       "        vertical-align: top;\n",
       "    }\n",
       "\n",
       "    .dataframe thead th {\n",
       "        text-align: right;\n",
       "    }\n",
       "</style>\n",
       "<table border=\"1\" class=\"dataframe\">\n",
       "  <thead>\n",
       "    <tr style=\"text-align: right;\">\n",
       "      <th></th>\n",
       "      <th>Country</th>\n",
       "      <th>Region</th>\n",
       "      <th>Happiness Rank</th>\n",
       "      <th>Happiness Score</th>\n",
       "      <th>Standard Error</th>\n",
       "      <th>Economy (GDP per Capita)</th>\n",
       "      <th>Family</th>\n",
       "      <th>Health (Life Expectancy)</th>\n",
       "      <th>Freedom</th>\n",
       "      <th>Trust (Government Corruption)</th>\n",
       "      <th>...</th>\n",
       "      <th>international</th>\n",
       "      <th>research</th>\n",
       "      <th>citations</th>\n",
       "      <th>income</th>\n",
       "      <th>total_score</th>\n",
       "      <th>num_students</th>\n",
       "      <th>student_staff_ratio</th>\n",
       "      <th>international_students</th>\n",
       "      <th>female_male_ratio</th>\n",
       "      <th>year</th>\n",
       "    </tr>\n",
       "  </thead>\n",
       "  <tbody>\n",
       "    <tr>\n",
       "      <th>0</th>\n",
       "      <td>Switzerland</td>\n",
       "      <td>Western Europe</td>\n",
       "      <td>1</td>\n",
       "      <td>7.587</td>\n",
       "      <td>0.03411</td>\n",
       "      <td>1.39651</td>\n",
       "      <td>1.34951</td>\n",
       "      <td>0.94143</td>\n",
       "      <td>0.66557</td>\n",
       "      <td>0.41978</td>\n",
       "      <td>...</td>\n",
       "      <td>96.6</td>\n",
       "      <td>90.2</td>\n",
       "      <td>83.5</td>\n",
       "      <td>73.2</td>\n",
       "      <td>84.6</td>\n",
       "      <td>18178.0</td>\n",
       "      <td>14.7</td>\n",
       "      <td>0.37</td>\n",
       "      <td>31 : 69</td>\n",
       "      <td>2015</td>\n",
       "    </tr>\n",
       "    <tr>\n",
       "      <th>1</th>\n",
       "      <td>Switzerland</td>\n",
       "      <td>Western Europe</td>\n",
       "      <td>1</td>\n",
       "      <td>7.587</td>\n",
       "      <td>0.03411</td>\n",
       "      <td>1.39651</td>\n",
       "      <td>1.34951</td>\n",
       "      <td>0.94143</td>\n",
       "      <td>0.66557</td>\n",
       "      <td>0.41978</td>\n",
       "      <td>...</td>\n",
       "      <td>98.8</td>\n",
       "      <td>56.9</td>\n",
       "      <td>95.0</td>\n",
       "      <td>61.9</td>\n",
       "      <td>70.9</td>\n",
       "      <td>9666.0</td>\n",
       "      <td>10.5</td>\n",
       "      <td>0.54</td>\n",
       "      <td>27 : 73</td>\n",
       "      <td>2015</td>\n",
       "    </tr>\n",
       "    <tr>\n",
       "      <th>2</th>\n",
       "      <td>Switzerland</td>\n",
       "      <td>Western Europe</td>\n",
       "      <td>1</td>\n",
       "      <td>7.587</td>\n",
       "      <td>0.03411</td>\n",
       "      <td>1.39651</td>\n",
       "      <td>1.34951</td>\n",
       "      <td>0.94143</td>\n",
       "      <td>0.66557</td>\n",
       "      <td>0.41978</td>\n",
       "      <td>...</td>\n",
       "      <td>91.2</td>\n",
       "      <td>41.1</td>\n",
       "      <td>81.4</td>\n",
       "      <td>97.7</td>\n",
       "      <td>58.4</td>\n",
       "      <td>12551.0</td>\n",
       "      <td>17.3</td>\n",
       "      <td>0.24</td>\n",
       "      <td>54:46:00</td>\n",
       "      <td>2015</td>\n",
       "    </tr>\n",
       "    <tr>\n",
       "      <th>3</th>\n",
       "      <td>Switzerland</td>\n",
       "      <td>Western Europe</td>\n",
       "      <td>1</td>\n",
       "      <td>7.587</td>\n",
       "      <td>0.03411</td>\n",
       "      <td>1.39651</td>\n",
       "      <td>1.34951</td>\n",
       "      <td>0.94143</td>\n",
       "      <td>0.66557</td>\n",
       "      <td>0.41978</td>\n",
       "      <td>...</td>\n",
       "      <td>86.9</td>\n",
       "      <td>33.1</td>\n",
       "      <td>81.4</td>\n",
       "      <td>40.1</td>\n",
       "      <td>53.9</td>\n",
       "      <td>26583.0</td>\n",
       "      <td>6.5</td>\n",
       "      <td>0.19</td>\n",
       "      <td>57:43:00</td>\n",
       "      <td>2015</td>\n",
       "    </tr>\n",
       "    <tr>\n",
       "      <th>4</th>\n",
       "      <td>Switzerland</td>\n",
       "      <td>Western Europe</td>\n",
       "      <td>1</td>\n",
       "      <td>7.587</td>\n",
       "      <td>0.03411</td>\n",
       "      <td>1.39651</td>\n",
       "      <td>1.34951</td>\n",
       "      <td>0.94143</td>\n",
       "      <td>0.66557</td>\n",
       "      <td>0.41978</td>\n",
       "      <td>...</td>\n",
       "      <td>96.8</td>\n",
       "      <td>37.2</td>\n",
       "      <td>78.2</td>\n",
       "      <td>65.1</td>\n",
       "      <td>53.8</td>\n",
       "      <td>15668.0</td>\n",
       "      <td>15.0</td>\n",
       "      <td>0.39</td>\n",
       "      <td>61:39:00</td>\n",
       "      <td>2015</td>\n",
       "    </tr>\n",
       "  </tbody>\n",
       "</table>\n",
       "<p>5 rows × 26 columns</p>\n",
       "</div>"
      ],
      "text/plain": [
       "       Country          Region  Happiness Rank  Happiness Score  \\\n",
       "0  Switzerland  Western Europe               1            7.587   \n",
       "1  Switzerland  Western Europe               1            7.587   \n",
       "2  Switzerland  Western Europe               1            7.587   \n",
       "3  Switzerland  Western Europe               1            7.587   \n",
       "4  Switzerland  Western Europe               1            7.587   \n",
       "\n",
       "   Standard Error  Economy (GDP per Capita)   Family  \\\n",
       "0         0.03411                   1.39651  1.34951   \n",
       "1         0.03411                   1.39651  1.34951   \n",
       "2         0.03411                   1.39651  1.34951   \n",
       "3         0.03411                   1.39651  1.34951   \n",
       "4         0.03411                   1.39651  1.34951   \n",
       "\n",
       "   Health (Life Expectancy)  Freedom  Trust (Government Corruption)  ...  \\\n",
       "0                   0.94143  0.66557                        0.41978  ...   \n",
       "1                   0.94143  0.66557                        0.41978  ...   \n",
       "2                   0.94143  0.66557                        0.41978  ...   \n",
       "3                   0.94143  0.66557                        0.41978  ...   \n",
       "4                   0.94143  0.66557                        0.41978  ...   \n",
       "\n",
       "   international  research citations income total_score  num_students  \\\n",
       "0           96.6      90.2      83.5   73.2        84.6       18178.0   \n",
       "1           98.8      56.9      95.0   61.9        70.9        9666.0   \n",
       "2           91.2      41.1      81.4   97.7        58.4       12551.0   \n",
       "3           86.9      33.1      81.4   40.1        53.9       26583.0   \n",
       "4           96.8      37.2      78.2   65.1        53.8       15668.0   \n",
       "\n",
       "  student_staff_ratio  international_students  female_male_ratio  year  \n",
       "0                14.7                    0.37            31 : 69  2015  \n",
       "1                10.5                    0.54            27 : 73  2015  \n",
       "2                17.3                    0.24           54:46:00  2015  \n",
       "3                 6.5                    0.19           57:43:00  2015  \n",
       "4                15.0                    0.39           61:39:00  2015  \n",
       "\n",
       "[5 rows x 26 columns]"
      ]
     },
     "execution_count": 21,
     "metadata": {},
     "output_type": "execute_result"
    }
   ],
   "source": [
    "#Joining two datasets\n",
    "df = pd.merge(hapdata, univdata, how='inner', left_on='Country', right_on='country')\n",
    "df.head()"
   ]
  },
  {
   "cell_type": "markdown",
   "metadata": {},
   "source": [
    "Woohoo!"
   ]
  },
  {
   "cell_type": "code",
   "execution_count": 22,
   "metadata": {},
   "outputs": [
    {
     "name": "stderr",
     "output_type": "stream",
     "text": [
      "<ipython-input-22-fd82906de511>:6: DeprecationWarning: `np.bool` is a deprecated alias for the builtin `bool`. To silence this warning, use `bool` by itself. Doing this will not modify any behavior and is safe. If you specifically wanted the numpy scalar type, use `np.bool_` here.\n",
      "Deprecated in NumPy 1.20; for more details and guidance: https://numpy.org/devdocs/release/1.20.0-notes.html#deprecations\n",
      "  mask = np.triu(np.ones_like(df.corr(), dtype=np.bool))\n"
     ]
    },
    {
     "data": {
      "image/png": "[encoded data removed]",
      "text/plain": [
       "<Figure size 1152x432 with 2 Axes>"
      ]
     },
     "metadata": {
      "needs_background": "light"
     },
     "output_type": "display_data"
    }
   ],
   "source": [
    "#sns.heatmap(df.corr(), annot=False, fmt=\".2f\")\n",
    "#^ That was my original heatmap, but I learned how to make another one with this website:\n",
    "#https://medium.com/@szabo.bibor/how-to-create-a-seaborn-correlation-heatmap-in-python-834c0686b88e\n",
    "np.triu(np.ones_like(df.corr()))\n",
    "plt.figure(figsize=(16, 6))\n",
    "mask = np.triu(np.ones_like(df.corr(), dtype=np.bool))\n",
    "#I chose coolwarm because warm = strong correlation , cool = not strong correlation. I thought the colors were easy to distinguish.\n",
    "heatmap = sns.heatmap(df.corr(), mask=mask, vmin=-1, vmax=1, annot=True, cmap='coolwarm')\n",
    "heatmap.set_title('Combined Datasets Triangle Correlation Heatmap', fontdict={'fontsize':18}, pad=16);\n",
    "plt.show()"
   ]
  },
  {
   "cell_type": "markdown",
   "metadata": {},
   "source": [
    "What kind of surprises me is that there isn't really any *super* strong correlation between the values of the two datasets. Maybe that's because the values are presented differently and in different categories, or maybe it's because no such relationship exists at all. There is a pretty strong link between Generosity of countries and international students in universities. Maybe it means that the more generous a country is with its citizens, the more likely students from other countries will come to study?<br>\n",
    "Looking at *weak* correlations, there is no real (strong) link between Happiness Rank and international students, or a university's score and the student:staff ratio. So, though generosity plays a large role with international students, the larger picture does not."
   ]
  },
  {
   "cell_type": "markdown",
   "metadata": {},
   "source": [
    "# Final Thoughts\n",
    "\n",
    "So, throughout the graphs we've made, we see that the higher a country's happiness rank is, the more likely their universities are to have a high rank. Almost.<br>\n",
    "I think it's important in this project not to confuse correlation with causation. Just because some of the happiest countries also have the best universities does not mean that one influences the other.<br> \n",
    "Happiness, according to the heatmap, looks like it is influenced much more by freedom and family than anything else. Perhaps freedom means the freedom to receive an education. Perhaps not.<br>\n",
    "Being a high ranking university seems to relate the most to the research performed there and the teaching staff. Does having access to great teachers and research opportunities mean that students are happy? It is unclear, but I would assume the answer to be yes. Of course, there are so many more factors that go into 'are you happy or not?'. Another thing I noticed that is not entirely clear in my university dataset are, do the students include graduate students? I think it would be interesting to explore the effect graduate students have versus undergraduate students on a university's ranking, if anything.<br>\n",
    "Though simple, I think bar graphs are an effective way to visualize a lot of the data in this project. The values depend on the countries they represent, so I think it makes it visually appealing to see them side by side like this. Box plots were also an interesting way to look a little closer at the numerical data within the sets.<br>\n",
    "I'm glad Kirk and Morgan brought up the heatmap because it felt off, but it wasn't until I read his comment that I understood why! Halving it so that the data appears once was a very helpful suggestion and I think makes the chart look much easier to read. In the same vein, I also changed the color scheme so that it becomes a little easier to read (as well as including values this time!). My original chart looked like this:"
   ]
  },
  {
   "cell_type": "markdown",
   "metadata": {},
   "source": [
    "<img src = \"heatmap.png\">"
   ]
  },
  {
   "cell_type": "markdown",
   "metadata": {},
   "source": [
    "Yeah, it definitely needed some work.<br>\n",
    "I also touched up the graphs to add a little color because I like my projects to be aesthetically pleasing. :) The original graphs looked like this:"
   ]
  },
  {
   "cell_type": "markdown",
   "metadata": {},
   "source": [
    "<img src = \"originalhappiness.png\"> <img src = \"originaluniversity.png\">"
   ]
  },
  {
   "cell_type": "markdown",
   "metadata": {},
   "source": [
    "Should I be a little more tech-savvy and/or revisit this project, I think I would make the bar graph colors vary depending on the score (in a similar range as the now heatmap). Purple means happiness and green means university score, but I'm sure I could come up with a color argument to distinguish them.<br>\n",
    "As I've mentioned in my above explanations, there is a lot missing from this data. Though it's nice to have numbers about countries being happy and universities being successful, but there is no information as to *who* it is talking about. These data sources could be incredibly biased and only talk about privileged citizens. Maybe not. But, I think it's important to consider the data that isn't there. Who isn't there? Who isn't being spoken for? How can we make it that they can speak up?<br>\n",
    "This project is a good start. Hopefully more data will emerge in the future that allow these other questions to be explored."
   ]
  }
 ],
 "metadata": {
  "kernelspec": {
   "display_name": "Python 3",
   "language": "python",
   "name": "python3"
  },
  "language_info": {
   "codemirror_mode": {
    "name": "ipython",
    "version": 3
   },
   "file_extension": ".py",
   "mimetype": "text/x-python",
   "name": "python",
   "nbconvert_exporter": "python",
   "pygments_lexer": "ipython3",
   "version": "3.8.8"
  }
 },
 "nbformat": 4,
 "nbformat_minor": 4
}
